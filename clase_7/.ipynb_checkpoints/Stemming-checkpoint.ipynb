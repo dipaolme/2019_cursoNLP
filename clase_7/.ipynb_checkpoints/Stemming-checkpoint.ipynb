{
 "cells": [
  {
   "cell_type": "code",
   "execution_count": 12,
   "metadata": {},
   "outputs": [],
   "source": [
    "import re\n",
    "from collections import defaultdict"
   ]
  },
  {
   "cell_type": "code",
   "execution_count": 13,
   "metadata": {},
   "outputs": [],
   "source": [
    "stemmer = re.compile(r'[aeiou]\\b|eria\\b|er[oa]\\b|eta\\b')"
   ]
  },
  {
   "cell_type": "code",
   "execution_count": 14,
   "metadata": {},
   "outputs": [],
   "source": [
    "texto = ['libro', 'libreria', 'librera', 'libreta']"
   ]
  },
  {
   "cell_type": "code",
   "execution_count": 15,
   "metadata": {},
   "outputs": [],
   "source": [
    "formas_lexicas = defaultdict(int)\n",
    "stems = defaultdict(int)"
   ]
  },
  {
   "cell_type": "code",
   "execution_count": 16,
   "metadata": {},
   "outputs": [],
   "source": [
    "for i in texto:\n",
    "    formas_lexicas[i] += 1\n",
    "    \n"
   ]
  },
  {
   "cell_type": "code",
   "execution_count": 17,
   "metadata": {},
   "outputs": [
    {
     "data": {
      "text/plain": [
       "defaultdict(int, {'libro': 1, 'libreria': 1, 'librera': 1, 'libreta': 1})"
      ]
     },
     "execution_count": 17,
     "metadata": {},
     "output_type": "execute_result"
    }
   ],
   "source": [
    "formas_lexicas"
   ]
  },
  {
   "cell_type": "code",
   "execution_count": 20,
   "metadata": {},
   "outputs": [],
   "source": [
    "for i in texto:\n",
    "    i = re.sub(stemmer, '', i)\n",
    "    stems[i] += 1\n"
   ]
  },
  {
   "cell_type": "code",
   "execution_count": 19,
   "metadata": {},
   "outputs": [
    {
     "data": {
      "text/plain": [
       "defaultdict(int, {'libr': 4})"
      ]
     },
     "execution_count": 19,
     "metadata": {},
     "output_type": "execute_result"
    }
   ],
   "source": [
    "stems"
   ]
  },
  {
   "cell_type": "markdown",
   "metadata": {},
   "source": [
    "Pero que ocurre si la formacion de mis palabras no esta sujeta exclusivamente a afijos transparentes sino a procesos linguisticos mas complejos e irregulares?"
   ]
  },
  {
   "cell_type": "code",
   "execution_count": 22,
   "metadata": {},
   "outputs": [],
   "source": [
    "texto = ['jugar', 'juego', 'jugo']\n",
    "\n",
    "ambiguedad = defaultdict(int)"
   ]
  },
  {
   "cell_type": "code",
   "execution_count": 23,
   "metadata": {},
   "outputs": [
    {
     "data": {
      "text/plain": [
       "defaultdict(int, {'jug': 2, 'jueg': 1})"
      ]
     },
     "execution_count": 23,
     "metadata": {},
     "output_type": "execute_result"
    }
   ],
   "source": [
    "stemmer = re.compile(r'[aeiou]r?\\b|eria\\b|ero\\b|eta\\b')\n",
    "\n",
    "\n",
    "for i in texto:\n",
    "    i = re.sub(stemmer, '', i)\n",
    "    ambiguedad[i] += 1\n",
    "    \n",
    "    \n",
    "ambiguedad"
   ]
  },
  {
   "cell_type": "markdown",
   "metadata": {},
   "source": [
    "Uno de los metodos de stemming mas utilizados es el algoritmo de Porter el cual aplica recursivamente diferentes reglas de extraccion de afijos hasta obtener el minimo numero de silabas sobre el que ya no se pueden aplicar reglas."
   ]
  },
  {
   "cell_type": "markdown",
   "metadata": {},
   "source": [
    "Algunos de los pasos del Porter Algorithm son:\n",
    "\n",
    "    Step 1a\n",
    "\n",
    "    SSES -> SS caresses -> caress\n",
    "\n",
    "    SS -> SS caress -> caress\n",
    "\n",
    "    S -> cats -> cat\n",
    "\n",
    "    Step 2\n",
    "\n",
    "    ATIONAL -> ATE relational -> relate\n",
    "\n",
    "    TIONAL -> TION conditional-> condition\n",
    "\n",
    "Mas sobre el algoritmo en SnowBall"
   ]
  },
  {
   "cell_type": "markdown",
   "metadata": {},
   "source": [
    "La libreria que Porter creo para habilitar su metodo de stemming se llama Snowball. Si bien las reglas fueron originalmente pensadas para el ingles, el sistema fue adaptado para otros idiomas.\n",
    "\n",
    "NLTK trae una version del Snowball Stemmer con reglas para varios lenguajes (Siempre hay que investigar que 'language support' tienen todas estas librerias)"
   ]
  },
  {
   "cell_type": "code",
   "execution_count": 25,
   "metadata": {},
   "outputs": [],
   "source": [
    "from nltk.stem import SnowballStemmer\n",
    "\n",
    "stm = SnowballStemmer('spanish')"
   ]
  },
  {
   "cell_type": "code",
   "execution_count": 26,
   "metadata": {},
   "outputs": [
    {
     "name": "stdout",
     "output_type": "stream",
     "text": [
      "jug\n",
      "jueg\n",
      "jug\n"
     ]
    }
   ],
   "source": [
    "for i in texto:\n",
    "    print(stm.stem(i))"
   ]
  },
  {
   "cell_type": "markdown",
   "metadata": {},
   "source": [
    "Como podemos ver, el Porter Stemmer tampoco soluciona muchos de los problemas de ambiguedad. Por que no? Porque a pesar de que el algoritmo 'conoce' sobre reglas de formacion de palabras, 'desconoce' que estas se aplican de diferentes maneras segun la clase de palabras a la que pertenece la forma lexica original."
   ]
  },
  {
   "cell_type": "markdown",
   "metadata": {},
   "source": [
    "Podemos pensar, por ejemplo, que las irregularidades en las formas verbales son tambien, de algun modo, sistematizables. Por lo que podriamos crear reglas que se enfocasen en la 'regularizacion' de las formas verbales antes de aplicarles los pasos consecutivos para extrer la raiz. Asi y todo, esto podria ser costoso y no necesariamente performar mejor. (Siempre hay que hacer balance entre que se gana y que se pierde en el procesamiento de textos)"
   ]
  },
  {
   "cell_type": "code",
   "execution_count": null,
   "metadata": {},
   "outputs": [],
   "source": []
  },
  {
   "cell_type": "code",
   "execution_count": null,
   "metadata": {},
   "outputs": [],
   "source": []
  }
 ],
 "metadata": {
  "kernelspec": {
   "display_name": "Python 3",
   "language": "python",
   "name": "python3"
  },
  "language_info": {
   "codemirror_mode": {
    "name": "ipython",
    "version": 3
   },
   "file_extension": ".py",
   "mimetype": "text/x-python",
   "name": "python",
   "nbconvert_exporter": "python",
   "pygments_lexer": "ipython3",
   "version": "3.6.7"
  }
 },
 "nbformat": 4,
 "nbformat_minor": 2
}
