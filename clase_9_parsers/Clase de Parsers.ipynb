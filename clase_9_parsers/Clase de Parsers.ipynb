{
 "cells": [
  {
   "cell_type": "markdown",
   "metadata": {},
   "source": [
    "# Parsers"
   ]
  },
  {
   "cell_type": "markdown",
   "metadata": {},
   "source": [
    "## Qué?"
   ]
  },
  {
   "cell_type": "markdown",
   "metadata": {},
   "source": [
    "Un parser es un algoritmo computacional que **recibe un *input*, lo analiza y lo devuelve ordenado de acuerdo a reglas** que conoce previamente, generalmente en forma de árbol.\n",
    "Tiene cargado un conjunto de reglas que le indican cómo dar formato al *input*. Suele ser parte de un proceso más complejo (lectura de archivos, compilador, etc) "
   ]
  },
  {
   "cell_type": "markdown",
   "metadata": {},
   "source": [
    "Analizar una cadena de símbolos de acuerdo a una serie de reglas definidas previamente"
   ]
  },
  {
   "cell_type": "markdown",
   "metadata": {},
   "source": [
    "**En NLP:**\n",
    "\n",
    "● Recibe información no estructurada: una cadena (*string*) en lenguaje natural \n",
    "\n",
    "● Consta de una gramática que contiene instrucciones de reescritura\n",
    "\n",
    "● Devuelve información estructurada: una representación formal de la estructura sintáctica\n"
   ]
  },
  {
   "cell_type": "markdown",
   "metadata": {},
   "source": [
    "Un parser, entonces, procesa oraciones de acuerdo a una **gramática**, pero esta no es un programa en sí mismo sino **un conjunto de reglas que le sirven de *input*** para saber cómo analizar las oraciones.\n"
   ]
  },
  {
   "cell_type": "markdown",
   "metadata": {},
   "source": [
    "## **Para qué?**\n",
    "\n",
    "Una motivación científica para la creación y el uso de los parsers es principalmente el entendimiento. \n",
    "\n",
    "¿Cómo podemos acceder a niveles más profundos del significado a partir del acceso a la estructura sintáctica de una oración. \n",
    "\n",
    "Aunque sepamos la categoría de una palabra, es decir su POS, no tenemos información sobre las relaciones jerárquicas que se establecen entre ellas.\n",
    "\n",
    "El proceso de parsing nos devuelve esa información."
   ]
  },
  {
   "cell_type": "markdown",
   "metadata": {},
   "source": [
    "**El proceso se divide en dos instancias:** \n",
    "    \n",
    "    \n",
    "#### Shallow Parsing: \n",
    " Consiste en \"cortar\" el input en \"pedazos\" y asignarles una etiqueta. El proceso recorre e identifica cada palabra como Vb, N, etc. y luego las agrupa en estructuras mayores (VP, NP, etc). Similar a lo que vimos con POS tagging\n"
   ]
  },
  {
   "cell_type": "markdown",
   "metadata": {},
   "source": [
    "#### Full Parsing: \n",
    "Consiste en producir una representación formal de la estructura sintáctica del input, en general en forma de árboles."
   ]
  },
  {
   "cell_type": "markdown",
   "metadata": {},
   "source": [
    "## Las Gramáticas"
   ]
  },
  {
   "cell_type": "markdown",
   "metadata": {},
   "source": [
    "En la primera clase examinamos distintos tipos de lenguajes entendidos como conjuntos de cadenas. Estos lenguajes pueden ser caracterizados por intensión por distintos mecanismos. Uno de estos mecanismos es la elaboración de gramáticas. Además de generar/reconocer/describir lenguajes, las gramáticas poseen la característica adicional de que son capaces de asignar estructura a las cadenas.\n",
    "Existen distintos tipos de gramáticas según el lenguaje que generan."
   ]
  },
  {
   "cell_type": "markdown",
   "metadata": {},
   "source": [
    "| Lenguajes | Gramáticas |\n",
    "| ------ | -----: |\n",
    "| Lenguajes tipo 0 | Gramáticas irrestrictas |\n",
    "| Lenguajes tipo 1 | Gramáticas sensibles al contexto |\n",
    "| Lenguajes tipo 2 | Gramáticas independientes de contexto |\n",
    "| Lenguajes tipo 3 | Gramáticas regulares |"
   ]
  },
  {
   "cell_type": "markdown",
   "metadata": {},
   "source": [
    "Las gramáticas se expresan usualmente en forma de reglas de reescritura de la forma X -> Z (X se reescribe como Z), aunque estas  reglas pueden concebirse también como árboles parcialmente construidos o como restricciones combinatorias. Las gramáticas típicamente permiten construir grafos dirigidos, coloquialmente denominados ''árboles''.\n",
    "Existen tres grandes formas de construir las gramáticas según cómo se conciba la representación de la estructura jerárquica:\n",
    "* Gramáticas basadas en constituyentes\n",
    "* Gramáticas basadas en dependencias\n",
    "* Gramáticas categoriales"
   ]
  },
  {
   "cell_type": "markdown",
   "metadata": {},
   "source": [
    "![Gramática basada en constituyentes](constituyentes.png)"
   ]
  },
  {
   "cell_type": "markdown",
   "metadata": {},
   "source": [
    "![gramática de dependencias](dependencias.png)"
   ]
  },
  {
   "cell_type": "markdown",
   "metadata": {},
   "source": [
    "![Gramática categorial](categorial.png)"
   ]
  },
  {
   "cell_type": "markdown",
   "metadata": {},
   "source": [
    "## Cómo?"
   ]
  },
  {
   "cell_type": "markdown",
   "metadata": {},
   "source": [
    "El objetivo principal es determinar si el string que recibe como imput puede derivarse del símbolo de inicio de la gramática.\n",
    "\n",
    "**Hay dos maneras de hacer esto:**\n",
    "\n",
    "- _bottom-up (Análisis ascendente)_: Parte desde el *input* e intenta llegar a la raíz (O) desde la gramática\n",
    "\n",
    "- _top-down (Análisis descendente)_:  Parte desde la raíz (O) y aplica las reglas para chequear si es capaz de predecir el *input* ."
   ]
  },
  {
   "cell_type": "markdown",
   "metadata": {},
   "source": [
    "# Gramáticas basadas en constituyentes"
   ]
  },
  {
   "cell_type": "markdown",
   "metadata": {},
   "source": [
    "Poseen distinción entre nodos terminales y nodos no terminales, que especifican la categoría a la que pertenece una determinada subcadena."
   ]
  },
  {
   "cell_type": "code",
   "execution_count": 1,
   "metadata": {},
   "outputs": [],
   "source": [
    "import sys\n",
    "sys.path.append(\"/home/dipa/proyectos/2019_cursoNLP/lib/python3.6/site-packages\")\n",
    "import nltk\n",
    "import re"
   ]
  },
  {
   "cell_type": "markdown",
   "metadata": {},
   "source": [
    "## Recursive descent Parser\n",
    "\n",
    "- **Top-down**\n",
    "- Parte del símbolo de inicio y aplica las reglas para obtener los constituyentes inmediatos y armar el árbol hasta llegar a los símbolos terminales. Chequea coincidencia con la secuencia del input. Si no hay coincidencia, tiene que retroceder y buscar diferentes alternativas de parseo. "
   ]
  },
  {
   "cell_type": "code",
   "execution_count": 2,
   "metadata": {},
   "outputs": [],
   "source": [
    "# Recursive Descent Parser\n",
    "\n",
    "def rd_parser(sentence, grammar):                   # define una función llamada rd_parser con dos argumentos\n",
    "    print(grammar)                                  # imprime mi gramática\n",
    "    sentence = sentence.lower()                     # convierte a minúscula la oración\n",
    "    if sentence.endswith('.'):                      # si la oración termina con un punto\n",
    "        sent = re.sub('\\.',' ',sentence)            # se lo quita\n",
    "    else:                                           # si no\n",
    "        sent = sentence                             # la toma como está\n",
    "    sent = sent.split()                             # divide la oración en palabras\n",
    "    rd_parser = nltk.RecursiveDescentParser(grammar) # proceso esas palabras\n",
    "    for tree in rd_parser.parse(sent):              # para cada árbol posible en mi gramática para esa oración\n",
    "        print(tree)                                 # lo imprimo\n"
   ]
  },
  {
   "cell_type": "code",
   "execution_count": 7,
   "metadata": {
    "scrolled": false
   },
   "outputs": [
    {
     "name": "stdout",
     "output_type": "stream",
     "text": [
      "Escribí una oración:\n",
      "martín fuma en la plaza\n",
      "Grammar with 40 productions (start state = O)\n",
      "    O -> SN SV\n",
      "    SN -> PRO\n",
      "    SN -> NP\n",
      "    SN -> D NC\n",
      "    NP -> 'martín'\n",
      "    NP -> 'cata'\n",
      "    NP -> 'julia'\n",
      "    NP -> 'fede'\n",
      "    NP -> 'maca'\n",
      "    NP -> 'pablo'\n",
      "    NC -> 'plaza'\n",
      "    NC -> 'facultad'\n",
      "    NC -> 'regalo'\n",
      "    NC -> 'globo'\n",
      "    NC -> 'tabaco'\n",
      "    D -> 'el'\n",
      "    D -> 'la'\n",
      "    D -> 'un'\n",
      "    D -> 'una'\n",
      "    PRO -> 'ella'\n",
      "    PRO -> 'él'\n",
      "    SV -> FV SN SP\n",
      "    SV -> FV SP\n",
      "    SV -> FV\n",
      "    SV -> FV SN\n",
      "    FV -> AUX PART\n",
      "    FV -> V\n",
      "    AUX -> 'fue'\n",
      "    PART -> 'entregado'\n",
      "    PART -> 'enviado'\n",
      "    PART -> 'fumado'\n",
      "    PART -> 'explotado'\n",
      "    V -> 'entregó'\n",
      "    V -> 'envió'\n",
      "    V -> 'explotó'\n",
      "    V -> 'fuma'\n",
      "    SP -> P SN\n",
      "    P -> 'por'\n",
      "    P -> 'en'\n",
      "    P -> 'a'\n",
      "(O\n",
      "  (SN (NP martín))\n",
      "  (SV (FV (V fuma)) (SP (P en) (SN (D la) (NC plaza)))))\n"
     ]
    }
   ],
   "source": [
    "#Para correr el Recursive Descent Parser\n",
    "\n",
    "print('Escribí una oración:')                          #Para que me pida que escriba una oración\n",
    "oracion1 = input()                                     #Para que me abra un campo en el que escriba la oración\n",
    "grammar = nltk.data.load('ContextFreeGrammar.cfg')     # establece cuál va a ser mi gramática\n",
    "rd_parser(oracion1, grammar)                           #Para correr la función"
   ]
  },
  {
   "cell_type": "markdown",
   "metadata": {},
   "source": [
    "**Demo del Right Descent Parser**"
   ]
  },
  {
   "cell_type": "code",
   "execution_count": 9,
   "metadata": {
    "scrolled": true
   },
   "outputs": [],
   "source": [
    "import tkinter\n",
    "nltk.app.rdparser()"
   ]
  },
  {
   "cell_type": "markdown",
   "metadata": {},
   "source": [
    "**Desventajas:**\n",
    "\n",
    "- La recursividad a la izquierda (NP -> NP PP) lo lleva al loop infinito\n",
    "\n",
    "- Pierde mucho tiempo considerando las estructuras que no se corresponden con el input\n",
    "\n",
    "- En el proceso de backtracking se descartan los parseos anteriores y tiene que volver a construirlos \n",
    "\n",
    "\n"
   ]
  },
  {
   "cell_type": "markdown",
   "metadata": {},
   "source": [
    "## Bllip Parser"
   ]
  },
  {
   "cell_type": "markdown",
   "metadata": {},
   "source": [
    "Antes hay que instalar el bllip parser. \n",
    "\n",
    "Para hacerlo, correr el siguiente comando en la terminal:\n",
    "\n",
    "    pip install --user bllipparser\n",
    "\n",
    "Brown Laboratory for Linguistic Information Processing\n",
    "\n",
    "Introduce gramáticas a partir de un corpus"
   ]
  },
  {
   "cell_type": "code",
   "execution_count": 10,
   "metadata": {},
   "outputs": [],
   "source": [
    "from bllipparser import RerankingParser                             #Importa el parser\n",
    "from bllipparser.ModelFetcher import download_and_install_model     # Descarga e instala el \"modelo\"\n",
    "\n",
    "model_dir = download_and_install_model('WSJ', 'tmp/models')         #Crea una variable con el \"modelo\"\n",
    "rrp = RerankingParser.from_unified_model_dir(model_dir)"
   ]
  },
  {
   "cell_type": "code",
   "execution_count": 11,
   "metadata": {},
   "outputs": [
    {
     "data": {
      "text/plain": [
       "'(S1 (S (NP (NNP jonh)) (VP (VBZ smokes) (NP (DT a) (NN cigarrete)))))'"
      ]
     },
     "execution_count": 11,
     "metadata": {},
     "output_type": "execute_result"
    }
   ],
   "source": [
    "oracion2 = \"jonh smokes a cigarrete\"\n",
    "rrp.simple_parse(oracion2)"
   ]
  },
  {
   "cell_type": "code",
   "execution_count": 12,
   "metadata": {
    "scrolled": true
   },
   "outputs": [
    {
     "data": {
      "text/plain": [
       "'(S1 (S (S (NP (DT No) (NN one)) (VP (VBD saw) (S (NP (PRP him)) (VP (VBP disembark) (PP (IN in) (NP (DT the) (JJ unanimous) (NN night))))))) (, ,) (S (NP (DT no) (NN one)) (VP (VBD saw) (S (NP (DT the) (NN bamboo) (NN canoe)) (VP (VB sink) (PP (IN into) (NP (DT the) (JJ sacred) (NN mud))))))) (, ,) (CC but) (S (PP (IN in) (NP (DT a) (JJ few) (NNS days))) (NP (EX there)) (VP (VBD was) (NP (NP (DT no) (NN one)) (SBAR (WHNP (WP who)) (S (VP (VBD did) (RB not) (VP (VB know) (SBAR (IN that) (S (NP (DT the) (JJ taciturn) (NN man)) (VP (VBD came) (PP (IN from) (NP (DT the) (NNP South)))))))))))))))'"
      ]
     },
     "execution_count": 12,
     "metadata": {},
     "output_type": "execute_result"
    }
   ],
   "source": [
    "oracion3 = \"No one saw him disembark in the unanimous night, no one saw the bamboo canoe sink into the sacred mud, but in a few days there was no one who did not know that the taciturn man came from the South\"\n",
    "rrp.simple_parse(oracion3)"
   ]
  },
  {
   "cell_type": "code",
   "execution_count": 13,
   "metadata": {},
   "outputs": [
    {
     "name": "stdout",
     "output_type": "stream",
     "text": [
      "Escribí una oración en inglés\n",
      "the sun is yellow\n"
     ]
    },
    {
     "data": {
      "text/plain": [
       "'(S1 (S (NP (DT the) (NN sun)) (VP (VBZ is) (ADJP (JJ yellow)))))'"
      ]
     },
     "execution_count": 13,
     "metadata": {},
     "output_type": "execute_result"
    }
   ],
   "source": [
    "print('Escribí una oración en inglés')\n",
    "oracion4 = input()\n",
    "rrp.simple_parse(oracion4)"
   ]
  },
  {
   "cell_type": "markdown",
   "metadata": {},
   "source": [
    "# Gramáticas basadas en dependencias"
   ]
  },
  {
   "cell_type": "markdown",
   "metadata": {},
   "source": [
    "No poseen distinción entre símbolos no terminales y terminales. Las estructuras representan relaciones de dependencia entre terminales.\n",
    "Ejemplos de parsers de dependencias:\n",
    "* Maltparser (http://www.maltparser.org/)\n",
    "* SyntaxNet (https://opensource.google.com/projects/syntaxnet)\n",
    "* Dependency parser de Spacy (https://spacy.io/usage/linguistic-features#dependency-parse)"
   ]
  },
  {
   "cell_type": "markdown",
   "metadata": {},
   "source": [
    "## Spacy - Dependency parser"
   ]
  },
  {
   "cell_type": "code",
   "execution_count": 14,
   "metadata": {},
   "outputs": [],
   "source": [
    "import spacy\n",
    "from nltk import Tree\n",
    "from spacy import displacy \n",
    "\n",
    "def gramaticadependencias(sentence):       #Define la función\n",
    "    nlp = spacy.load('es_core_news_sm')    #Carga el modelo entrenado\n",
    "    doc = nlp(sentence)                    #define una variable doc con la oración procesada por el modelo\n",
    "    #for token in doc:               \n",
    "        #print(token.text, token.dep_, token.head.text, token.head.pos_,\n",
    "        #    [child for child in token.children])\n",
    "    displacy.render(doc, style='dep', jupyter=True)\n"
   ]
  },
  {
   "cell_type": "code",
   "execution_count": 16,
   "metadata": {},
   "outputs": [
    {
     "name": "stdout",
     "output_type": "stream",
     "text": [
      "Escribí una oración\n",
      "el peronismo es el cancer de la Argentina\n"
     ]
    },
    {
     "data": {
      "text/html": [
       "<svg xmlns=\"http://www.w3.org/2000/svg\" xmlns:xlink=\"http://www.w3.org/1999/xlink\" xml:lang=\"es\" id=\"572e45dfe3f6413a8daae280270eaa35-0\" class=\"displacy\" width=\"1450\" height=\"399.5\" direction=\"ltr\" style=\"max-width: none; height: 399.5px; color: #000000; background: #ffffff; font-family: Arial; direction: ltr\">\n",
       "<text class=\"displacy-token\" fill=\"currentColor\" text-anchor=\"middle\" y=\"309.5\">\n",
       "    <tspan class=\"displacy-word\" fill=\"currentColor\" x=\"50\">el</tspan>\n",
       "    <tspan class=\"displacy-tag\" dy=\"2em\" fill=\"currentColor\" x=\"50\">DET</tspan>\n",
       "</text>\n",
       "\n",
       "<text class=\"displacy-token\" fill=\"currentColor\" text-anchor=\"middle\" y=\"309.5\">\n",
       "    <tspan class=\"displacy-word\" fill=\"currentColor\" x=\"225\">peronismo</tspan>\n",
       "    <tspan class=\"displacy-tag\" dy=\"2em\" fill=\"currentColor\" x=\"225\">NOUN</tspan>\n",
       "</text>\n",
       "\n",
       "<text class=\"displacy-token\" fill=\"currentColor\" text-anchor=\"middle\" y=\"309.5\">\n",
       "    <tspan class=\"displacy-word\" fill=\"currentColor\" x=\"400\">es</tspan>\n",
       "    <tspan class=\"displacy-tag\" dy=\"2em\" fill=\"currentColor\" x=\"400\">AUX</tspan>\n",
       "</text>\n",
       "\n",
       "<text class=\"displacy-token\" fill=\"currentColor\" text-anchor=\"middle\" y=\"309.5\">\n",
       "    <tspan class=\"displacy-word\" fill=\"currentColor\" x=\"575\">el</tspan>\n",
       "    <tspan class=\"displacy-tag\" dy=\"2em\" fill=\"currentColor\" x=\"575\">DET</tspan>\n",
       "</text>\n",
       "\n",
       "<text class=\"displacy-token\" fill=\"currentColor\" text-anchor=\"middle\" y=\"309.5\">\n",
       "    <tspan class=\"displacy-word\" fill=\"currentColor\" x=\"750\">cancer</tspan>\n",
       "    <tspan class=\"displacy-tag\" dy=\"2em\" fill=\"currentColor\" x=\"750\">NOUN</tspan>\n",
       "</text>\n",
       "\n",
       "<text class=\"displacy-token\" fill=\"currentColor\" text-anchor=\"middle\" y=\"309.5\">\n",
       "    <tspan class=\"displacy-word\" fill=\"currentColor\" x=\"925\">de</tspan>\n",
       "    <tspan class=\"displacy-tag\" dy=\"2em\" fill=\"currentColor\" x=\"925\">ADP</tspan>\n",
       "</text>\n",
       "\n",
       "<text class=\"displacy-token\" fill=\"currentColor\" text-anchor=\"middle\" y=\"309.5\">\n",
       "    <tspan class=\"displacy-word\" fill=\"currentColor\" x=\"1100\">la</tspan>\n",
       "    <tspan class=\"displacy-tag\" dy=\"2em\" fill=\"currentColor\" x=\"1100\">DET</tspan>\n",
       "</text>\n",
       "\n",
       "<text class=\"displacy-token\" fill=\"currentColor\" text-anchor=\"middle\" y=\"309.5\">\n",
       "    <tspan class=\"displacy-word\" fill=\"currentColor\" x=\"1275\">Argentina</tspan>\n",
       "    <tspan class=\"displacy-tag\" dy=\"2em\" fill=\"currentColor\" x=\"1275\">PROPN</tspan>\n",
       "</text>\n",
       "\n",
       "<g class=\"displacy-arrow\">\n",
       "    <path class=\"displacy-arc\" id=\"arrow-572e45dfe3f6413a8daae280270eaa35-0-0\" stroke-width=\"2px\" d=\"M70,264.5 C70,177.0 215.0,177.0 215.0,264.5\" fill=\"none\" stroke=\"currentColor\"/>\n",
       "    <text dy=\"1.25em\" style=\"font-size: 0.8em; letter-spacing: 1px\">\n",
       "        <textPath xlink:href=\"#arrow-572e45dfe3f6413a8daae280270eaa35-0-0\" class=\"displacy-label\" startOffset=\"50%\" side=\"left\" fill=\"currentColor\" text-anchor=\"middle\">det</textPath>\n",
       "    </text>\n",
       "    <path class=\"displacy-arrowhead\" d=\"M70,266.5 L62,254.5 78,254.5\" fill=\"currentColor\"/>\n",
       "</g>\n",
       "\n",
       "<g class=\"displacy-arrow\">\n",
       "    <path class=\"displacy-arc\" id=\"arrow-572e45dfe3f6413a8daae280270eaa35-0-1\" stroke-width=\"2px\" d=\"M245,264.5 C245,177.0 390.0,177.0 390.0,264.5\" fill=\"none\" stroke=\"currentColor\"/>\n",
       "    <text dy=\"1.25em\" style=\"font-size: 0.8em; letter-spacing: 1px\">\n",
       "        <textPath xlink:href=\"#arrow-572e45dfe3f6413a8daae280270eaa35-0-1\" class=\"displacy-label\" startOffset=\"50%\" side=\"left\" fill=\"currentColor\" text-anchor=\"middle\">nsubj</textPath>\n",
       "    </text>\n",
       "    <path class=\"displacy-arrowhead\" d=\"M245,266.5 L237,254.5 253,254.5\" fill=\"currentColor\"/>\n",
       "</g>\n",
       "\n",
       "<g class=\"displacy-arrow\">\n",
       "    <path class=\"displacy-arc\" id=\"arrow-572e45dfe3f6413a8daae280270eaa35-0-2\" stroke-width=\"2px\" d=\"M420,264.5 C420,89.5 745.0,89.5 745.0,264.5\" fill=\"none\" stroke=\"currentColor\"/>\n",
       "    <text dy=\"1.25em\" style=\"font-size: 0.8em; letter-spacing: 1px\">\n",
       "        <textPath xlink:href=\"#arrow-572e45dfe3f6413a8daae280270eaa35-0-2\" class=\"displacy-label\" startOffset=\"50%\" side=\"left\" fill=\"currentColor\" text-anchor=\"middle\">cop</textPath>\n",
       "    </text>\n",
       "    <path class=\"displacy-arrowhead\" d=\"M420,266.5 L412,254.5 428,254.5\" fill=\"currentColor\"/>\n",
       "</g>\n",
       "\n",
       "<g class=\"displacy-arrow\">\n",
       "    <path class=\"displacy-arc\" id=\"arrow-572e45dfe3f6413a8daae280270eaa35-0-3\" stroke-width=\"2px\" d=\"M595,264.5 C595,177.0 740.0,177.0 740.0,264.5\" fill=\"none\" stroke=\"currentColor\"/>\n",
       "    <text dy=\"1.25em\" style=\"font-size: 0.8em; letter-spacing: 1px\">\n",
       "        <textPath xlink:href=\"#arrow-572e45dfe3f6413a8daae280270eaa35-0-3\" class=\"displacy-label\" startOffset=\"50%\" side=\"left\" fill=\"currentColor\" text-anchor=\"middle\">det</textPath>\n",
       "    </text>\n",
       "    <path class=\"displacy-arrowhead\" d=\"M595,266.5 L587,254.5 603,254.5\" fill=\"currentColor\"/>\n",
       "</g>\n",
       "\n",
       "<g class=\"displacy-arrow\">\n",
       "    <path class=\"displacy-arc\" id=\"arrow-572e45dfe3f6413a8daae280270eaa35-0-4\" stroke-width=\"2px\" d=\"M945,264.5 C945,89.5 1270.0,89.5 1270.0,264.5\" fill=\"none\" stroke=\"currentColor\"/>\n",
       "    <text dy=\"1.25em\" style=\"font-size: 0.8em; letter-spacing: 1px\">\n",
       "        <textPath xlink:href=\"#arrow-572e45dfe3f6413a8daae280270eaa35-0-4\" class=\"displacy-label\" startOffset=\"50%\" side=\"left\" fill=\"currentColor\" text-anchor=\"middle\">case</textPath>\n",
       "    </text>\n",
       "    <path class=\"displacy-arrowhead\" d=\"M945,266.5 L937,254.5 953,254.5\" fill=\"currentColor\"/>\n",
       "</g>\n",
       "\n",
       "<g class=\"displacy-arrow\">\n",
       "    <path class=\"displacy-arc\" id=\"arrow-572e45dfe3f6413a8daae280270eaa35-0-5\" stroke-width=\"2px\" d=\"M1120,264.5 C1120,177.0 1265.0,177.0 1265.0,264.5\" fill=\"none\" stroke=\"currentColor\"/>\n",
       "    <text dy=\"1.25em\" style=\"font-size: 0.8em; letter-spacing: 1px\">\n",
       "        <textPath xlink:href=\"#arrow-572e45dfe3f6413a8daae280270eaa35-0-5\" class=\"displacy-label\" startOffset=\"50%\" side=\"left\" fill=\"currentColor\" text-anchor=\"middle\">det</textPath>\n",
       "    </text>\n",
       "    <path class=\"displacy-arrowhead\" d=\"M1120,266.5 L1112,254.5 1128,254.5\" fill=\"currentColor\"/>\n",
       "</g>\n",
       "\n",
       "<g class=\"displacy-arrow\">\n",
       "    <path class=\"displacy-arc\" id=\"arrow-572e45dfe3f6413a8daae280270eaa35-0-6\" stroke-width=\"2px\" d=\"M770,264.5 C770,2.0 1275.0,2.0 1275.0,264.5\" fill=\"none\" stroke=\"currentColor\"/>\n",
       "    <text dy=\"1.25em\" style=\"font-size: 0.8em; letter-spacing: 1px\">\n",
       "        <textPath xlink:href=\"#arrow-572e45dfe3f6413a8daae280270eaa35-0-6\" class=\"displacy-label\" startOffset=\"50%\" side=\"left\" fill=\"currentColor\" text-anchor=\"middle\">nmod</textPath>\n",
       "    </text>\n",
       "    <path class=\"displacy-arrowhead\" d=\"M1275.0,266.5 L1283.0,254.5 1267.0,254.5\" fill=\"currentColor\"/>\n",
       "</g>\n",
       "</svg>"
      ],
      "text/plain": [
       "<IPython.core.display.HTML object>"
      ]
     },
     "metadata": {},
     "output_type": "display_data"
    }
   ],
   "source": [
    "print('Escribí una oración')\n",
    "oracion5 = input()\n",
    "gramaticadependencias(oracion5)"
   ]
  },
  {
   "cell_type": "markdown",
   "metadata": {},
   "source": [
    "# Gramáticas Categoriales"
   ]
  },
  {
   "cell_type": "markdown",
   "metadata": {},
   "source": [
    "Las gramáticas categoriales están conformadas principalmente por un conjunto reducido de reglas y un léxico sumamente rico.\n",
    "Las reglas que utiliza OpenCCG, que es el parser categorial que vamos a ver son las siguientes:"
   ]
  },
  {
   "cell_type": "markdown",
   "metadata": {},
   "source": [
    "![reglas categoriales](reglascategorialesopenccg.png)"
   ]
  },
  {
   "cell_type": "markdown",
   "metadata": {},
   "source": [
    "Construir una gramática categorial consiste principalmente en elaborar un léxico lo suficientemente rico, ya que las gramáticas categoriales son fuertemente lexicalistas. En ellas, la categoría a la que pertenece cada entrada léxica codifica sus posibilidades combinatorias."
   ]
  },
  {
   "cell_type": "markdown",
   "metadata": {},
   "source": [
    "## Combinatory Categorial Grammar"
   ]
  },
  {
   "cell_type": "code",
   "execution_count": 24,
   "metadata": {},
   "outputs": [],
   "source": [
    "#Combinatory Categorial Grammar\n",
    "\n",
    "from nltk.ccg import chart, lexicon\n",
    "\n",
    "def combinatory_parser(sentence):   \n",
    "    sentence = sentence.lower()                                     # convierte a minúscula\n",
    "    if sentence.endswith('.'):                                      # si la oración termina con un punto\n",
    "        sent = re.sub('\\.',' ',sentence)                            # se lo quita\n",
    "    else:                                                           # si no\n",
    "        sent = sentence                                             # la toma como está\n",
    "    sent = sent.split()                                             # divide la oración en palabras\n",
    "    archivo = open('CategorialGrammar2.txt', 'r')\n",
    "    codigogram = archivo.read()\n",
    "    lex = lexicon.fromstring(codigogram)\n",
    "    print(lex)\n",
    "    parser = chart.CCGChartParser(lex, chart.DefaultRuleSet)\n",
    "    archivo.close()\n",
    "    for parse in parser.parse(sent):  # doctest: +SKIP\n",
    "         chart.printCCGDerivation(parse)\n",
    "         #break\n"
   ]
  },
  {
   "cell_type": "code",
   "execution_count": 26,
   "metadata": {},
   "outputs": [
    {
     "name": "stdout",
     "output_type": "stream",
     "text": [
      "Escribí una oración\n",
      "el globo\n",
      "a => (PP/NP)\n",
      "cata => NP\n",
      "el => (NP/NC)\n",
      "ella => NP\n",
      "en => (PP/NP)\n",
      "entregado => (PARTP/PP)\n",
      "entregó => (((S\\NP)/NP)/PP)\n",
      "enviado => (PARTP/PP)\n",
      "envió => (((S\\NP)/NP)/PP)\n",
      "explotado => (PARTP/PP)\n",
      "explotó => ((S\\NP)/NP) | (S\\NP)\n",
      "facultad => NC\n",
      "fede => NP\n",
      "fer => NP\n",
      "fue => ((S\\NP)/PARTP)\n",
      "fuma => (S\\NP)\n",
      "fumado => (PARTP/PP)\n",
      "fumó => ((S\\NP)/NP)\n",
      "globo => NC\n",
      "habla => (S\\NP)\n",
      "julia => NP\n",
      "la => (NP/NC)\n",
      "martín => NP\n",
      "pablo => NP\n",
      "plaza => NC\n",
      "por => (PP/NP)\n",
      "regalo => NC\n",
      "tabaco => NC\n",
      "un => (NP/NC)\n",
      "una => (NP/NC)\n",
      "vicky => NP\n",
      "él => NP\n"
     ]
    }
   ],
   "source": [
    "print('Escribí una oración')\n",
    "oracion5 = input()\n",
    "combinatory_parser(oracion5)"
   ]
  },
  {
   "cell_type": "markdown",
   "metadata": {},
   "source": [
    "# Gramáticas basadas en rasgos e interpretación semántica"
   ]
  },
  {
   "cell_type": "markdown",
   "metadata": {},
   "source": [
    "Las gramáticas se pueden enriquecer con el uso de rasgos. Los rasgos son pares de atributo valor. En una gramática con rasgos, los rasgos se heredan de las entradas léxicas a los nodos superiores. Las reglas especifican los rasgos que sus nodos hijos deben compartir."
   ]
  },
  {
   "cell_type": "code",
   "execution_count": 27,
   "metadata": {},
   "outputs": [
    {
     "name": "stdout",
     "output_type": "stream",
     "text": [
      "% start S\n",
      "#Adaptado al español de la gramática elaborada por Klein para el libro de NLTK\n",
      "#\n",
      "# ###################\n",
      "# Reglas de la Gramática\n",
      "# ###################\n",
      "# Reescritura de la Raíz\n",
      "S -> NP[NUM=?n] VP[NUM=?n]\n",
      "# Reescritura de NP\n",
      "NP[NUM=?n] -> PropN[NUM=?n] \n",
      "NP[NUM=?n,GEN=?g] -> Det[NUM=?n,GEN=?g] N[NUM=?n,GEN=?g]\n",
      "# Reescritura de VP\n",
      "VP[TENSE=?t, NUM=?n] -> V[TENSE=?t, NUM=?n]\n",
      "# ###################\n",
      "# Lexical Productions\n",
      "# ###################\n",
      "Det[NUM=sg,GEN=masc] -> 'este' | 'el'\n",
      "Det[NUM=pl,GEN=masc] -> 'estos' | 'los'\n",
      "Det[NUM=sg,GEN=fem] -> 'esta' | 'la'\n",
      "Det[NUM=pl,GEN=fem] -> 'estas' | 'las'\n",
      "PropN[NUM=sg]-> 'Cata' | 'Julia' | 'Fede' | 'Fer' | 'Martín' | 'Maca' | 'Vicky' | 'Pablo'\n",
      "N[NUM=sg,GEN=fem] -> 'chica' | 'mujer' | 'persona' | 'criatura'\n",
      "N[NUM=sg,GEN=masc] -> 'chico' | 'hombre' | 'sujeto' \n",
      "N[NUM=pl,GEN=fem] -> 'chicas' | 'mujeres' | 'personas' | 'criaturas'\n",
      "N[NUM=pl,GEN=masc] -> 'chicos' | 'hombres' | 'sujetos' \n",
      "V[TENSE=pres,NUM=sg] -> 'desaparece' | 'camina' | 'muerde' | 'llora' | 'aparece' | 'viene' | 'estornudan'\n",
      "V[TENSE=pres,NUM=pl] -> 'desaparecen' | 'caminan' | 'lloran' | 'muerden' | 'aparecen' | 'vienen' | 'estornudan'\n",
      "V[TENSE=pas,NUM=sg] -> 'desapareció' | 'caminó' | 'mordió' | 'lloraba' | 'apareció' | 'vino' | 'estornudó'\n",
      "V[TENSE=pas,NUM=pl] -> 'desaparecieron' | 'caminaron' | 'mordieron' | 'lloraban' | 'aparecieron' | 'vinieron' | 'estornudaron'\n"
     ]
    }
   ],
   "source": [
    "nltk.data.show_cfg('GramaticaDeRasgos.fcfg')"
   ]
  },
  {
   "cell_type": "code",
   "execution_count": 28,
   "metadata": {},
   "outputs": [
    {
     "name": "stdout",
     "output_type": "stream",
     "text": [
      "|.las .cria.esto.|\n",
      "Leaf Init Rule:\n",
      "|[----]    .    .| [0:1] 'las'\n",
      "|.    [----]    .| [1:2] 'criaturas'\n",
      "|.    .    [----]| [2:3] 'estornudan'\n",
      "Feature Bottom Up Predict Combine Rule:\n",
      "|[----]    .    .| [0:1] Det[GEN='fem', NUM='pl'] -> 'las' *\n",
      "Feature Bottom Up Predict Combine Rule:\n",
      "|[---->    .    .| [0:1] NP[GEN=?g, NUM=?n] -> Det[GEN=?g, NUM=?n] * N[GEN=?g, NUM=?n] {?g: 'fem', ?n: 'pl'}\n",
      "Feature Bottom Up Predict Combine Rule:\n",
      "|.    [----]    .| [1:2] N[GEN='fem', NUM='pl'] -> 'criaturas' *\n",
      "Feature Single Edge Fundamental Rule:\n",
      "|[---------]    .| [0:2] NP[GEN='fem', NUM='pl'] -> Det[GEN='fem', NUM='pl'] N[GEN='fem', NUM='pl'] *\n",
      "Feature Bottom Up Predict Combine Rule:\n",
      "|[--------->    .| [0:2] S[] -> NP[NUM=?n] * VP[NUM=?n] {?n: 'pl'}\n",
      "Feature Bottom Up Predict Combine Rule:\n",
      "|.    .    [----]| [2:3] V[NUM='sg', TENSE='pres'] -> 'estornudan' *\n",
      "|.    .    [----]| [2:3] V[NUM='pl', TENSE='pres'] -> 'estornudan' *\n",
      "Feature Bottom Up Predict Combine Rule:\n",
      "|.    .    [----]| [2:3] VP[NUM='pl', TENSE='pres'] -> V[NUM='pl', TENSE='pres'] *\n",
      "Feature Single Edge Fundamental Rule:\n",
      "|[==============]| [0:3] S[] -> NP[NUM='pl'] VP[NUM='pl'] *\n",
      "Feature Bottom Up Predict Combine Rule:\n",
      "|.    .    [----]| [2:3] VP[NUM='sg', TENSE='pres'] -> V[NUM='sg', TENSE='pres'] *\n",
      "(S[]\n",
      "  (NP[GEN='fem', NUM='pl']\n",
      "    (Det[GEN='fem', NUM='pl'] las)\n",
      "    (N[GEN='fem', NUM='pl'] criaturas))\n",
      "  (VP[NUM='pl', TENSE='pres'] (V[NUM='pl', TENSE='pres'] estornudan)))\n"
     ]
    }
   ],
   "source": [
    "tokens = 'las criaturas estornudan'.split()\n",
    "from nltk import load_parser\n",
    "cp = load_parser('GramaticaDeRasgos.fcfg', trace=2)\n",
    "for tree in cp.parse(tokens):\n",
    "     print(tree)"
   ]
  },
  {
   "cell_type": "markdown",
   "metadata": {},
   "source": [
    "Los rasgos se pueden utilizar para producir una intepretación semántica de las oraciones. Para ello se utilizan herramientas de la lógica. Las más importantes son: \n",
    "* Los cuantificadores universal y existencial\n",
    "* El cálculo lambda.\n",
    "\n",
    "Lambda es un operador que introduce una variable.\n",
    "\n",
    "\\x. fumar(x)\n",
    "\n",
    "significa\n",
    "\n",
    "'Dame un x y el resultado va a ser que x es argumento de fumar'\n",
    "\n",
    "\n",
    "Esto significa que \n",
    "\n",
    "\\x. fumar(x)(julia) \n",
    "\n",
    "es igual a \n",
    "\n",
    "fumar(julia)\n",
    "\n",
    "\n",
    "Usamos x, y, z para variables y P, Q para predicados\n",
    "\n",
    "Así, un nombre propio puede concebirse como una función que toma un predicado.\n",
    "\n",
    "\\P P(julia)\n",
    "\n",
    "Si tenemos las siguientes reglas:\n",
    "\n",
    "S\\[SEM=<?subj(?vp)>\\] -> N\\[SEM=?subj\\] V\\[SEM=<?vp\\]\n",
    "\n",
    "V\\[SEM=<\\\\x. fuma(x)>\\] -> 'fuma'\n",
    "\n",
    "N\\[SEM=<\\\\P P(julia)>\\] -> 'julia'\n",
    "\n",
    "\n",
    "Es posible hacer las siguientes equivalencias\n",
    "\n",
    "\\P P(julia)(\\x fuma(x)) = \\x fuma(x)(julia) = \\x fuma(julia)\n",
    "\n",
    "\n",
    "Mediante el agregado de este rasgo SEM a una gramática, es posible devolver no solo la estructura sintáctica sino también el significado."
   ]
  },
  {
   "cell_type": "code",
   "execution_count": 29,
   "metadata": {},
   "outputs": [
    {
     "name": "stdout",
     "output_type": "stream",
     "text": [
      "(S[SEM=<exists z2.(paquete(z2) & enviar(cata,z2,fede))>]\n",
      "  (NP[GEN='fem', -LOC, NUM='sg', SEM=<\\P.P(cata)>]\n",
      "    (PropN[GEN='fem', -LOC, NUM='sg', SEM=<\\P.P(cata)>] Cata))\n",
      "  (VP[NUM='sg', SEM=<\\x.exists z2.(paquete(z2) & enviar(x,z2,fede))>]\n",
      "    (DTV[NUM='sg', SEM=<\\Y X x.X(\\z.Y(\\y.enviar(x,y,z)))>, TNS='pas']\n",
      "      envió)\n",
      "    (NP[GEN='masc', NUM='sg', SEM=<\\Q.exists x.(paquete(x) & Q(x))>]\n",
      "      (Det[GEN='masc', NUM='sg', SEM=<\\P Q.exists x.(P(x) & Q(x))>]\n",
      "        un)\n",
      "      (Nom[GEN='masc', NUM='sg', SEM=<\\x.paquete(x)>]\n",
      "        (N[GEN='masc', NUM='sg', SEM=<\\x.paquete(x)>] paquete)))\n",
      "    (PP[+A, SEM=<\\P.P(fede)>]\n",
      "      (P[+a] a)\n",
      "      (NP[GEN='masc', -LOC, NUM='sg', SEM=<\\P.P(fede)>]\n",
      "        (PropN[GEN='masc', -LOC, NUM='sg', SEM=<\\P.P(fede)>] Fede)))))\n"
     ]
    }
   ],
   "source": [
    "sents = ['Cata envió un paquete a Fede']\n",
    "grammar = 'pruebasemantica.fcfg'\n",
    "for results in nltk.interpret_sents(sents, grammar):\n",
    "    for (synrep, semrep) in results:\n",
    "             print(synrep)"
   ]
  },
  {
   "cell_type": "code",
   "execution_count": null,
   "metadata": {},
   "outputs": [],
   "source": []
  },
  {
   "cell_type": "code",
   "execution_count": null,
   "metadata": {},
   "outputs": [],
   "source": []
  }
 ],
 "metadata": {
  "kernelspec": {
   "display_name": "Python 3",
   "language": "python",
   "name": "python3"
  },
  "language_info": {
   "codemirror_mode": {
    "name": "ipython",
    "version": 3
   },
   "file_extension": ".py",
   "mimetype": "text/x-python",
   "name": "python",
   "nbconvert_exporter": "python",
   "pygments_lexer": "ipython3",
   "version": "3.6.7"
  }
 },
 "nbformat": 4,
 "nbformat_minor": 2
}
