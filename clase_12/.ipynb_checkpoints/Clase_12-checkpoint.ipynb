{
 "cells": [
  {
   "cell_type": "markdown",
   "metadata": {
    "colab_type": "text",
    "id": "n3ecIcqvH-tW"
   },
   "source": [
    "## __Ejercicios Última Clase__"
   ]
  },
  {
   "cell_type": "markdown",
   "metadata": {
    "colab_type": "text",
    "id": "6gx_FG9sH-tY"
   },
   "source": [
    "__1)__ Seleccioná un cuento del corpus presentado en el curso y abrilo para trabajar.\n",
    "\n",
    "__2)__ Tokenizá el cuento y verificá qué elementos son Stopwords. Recordá que NLTK contiene una lista de stopwords precargada. Deberás obtener una lista con las stopwords presentes en el cuento.\n",
    "\n",
    "__3)__ ¿Considerás que el listado de stopwords es adecuado? \n",
    "\n",
    "    a) Si aún hay palabras que considerás que tienen un valor semántico importante, armá una lista con ellas y excluílas de tu lista de sw.\n",
    "    \n",
    "    b) Si hay palabras del cuento que quedaron afuera de tu lista de stopwords, pero que vos considerás que deberían formar parte de él, incorporalas a tu lista.\n",
    "    \n",
    "    c) Escribí un programa que borre las stopwords y quedate con las palabras semánticamente relevantes.\n",
    "    \n",
    "__4)__ De los tokens relevantes, ¿cuáles son los 10 más frecuentes? ¿y cuántas aparecen entre 1 y 3 veces?\n",
    "\n",
    "__5)__ ¿Cuáles son los lemas más frecuentes? ¿Estás satisfecho con el proceso de lematización que lograste? ¿Por qué?\n",
    "\n",
    "__6)__ ¿Cuáles son las palabras más representativas de este cuento en relación con los otros? (tf-idf) ¿Coinciden con las palabras de contenido más frecuentes? ¿En qué medida?\n",
    "\n",
    "__7)__ ¿Cuántos nombres propios aparecen en el texto? Marcalos con alguna etiqueta.\n",
    "\n",
    "__8)__ ¿Hay algún nombre propio que no esté captando? Si lo hay, agregale la etiqueta.\n",
    "\n",
    "\n",
    "\n",
    "__9)__ Elegí una frase del texto no muy larga:\n",
    "\n",
    "\n",
    "    a) Analizala con dos taggers diferentes, y comentá la performance de cada uno de ellos.\n",
    "\n",
    "    b) Parseala con el parser de Spacy. ¿En qué medida te parece correcto el parseo? \n",
    "\n",
    "    c) Formulá una gramática de constituyentes que arroje el parseo que a vos te parece conveniente, usando como modelo la gramática ContextFreeGrammar.cfg vista en clase y probala con el Recursive Descent Parser."
   ]
  },
  {
   "cell_type": "markdown",
   "metadata": {
    "colab_type": "text",
    "id": "I960G1MeH-ta"
   },
   "source": [
    "#### Te agradeceríamos si completás esta encuesta acerca del curso: \n",
    "           \n",
    "https://forms.gle/iuCAcuoa3WKBxe11A"
   ]
  }
 ],
 "metadata": {
  "colab": {
   "name": "Clase_12.ipynb",
   "provenance": [],
   "version": "0.3.2"
  },
  "kernelspec": {
   "display_name": "Python 3",
   "language": "python",
   "name": "python3"
  },
  "language_info": {
   "codemirror_mode": {
    "name": "ipython",
    "version": 3
   },
   "file_extension": ".py",
   "mimetype": "text/x-python",
   "name": "python",
   "nbconvert_exporter": "python",
   "pygments_lexer": "ipython3",
   "version": "3.6.7"
  }
 },
 "nbformat": 4,
 "nbformat_minor": 1
}
